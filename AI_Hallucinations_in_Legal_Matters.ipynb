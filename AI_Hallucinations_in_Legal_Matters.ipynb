{
  "nbformat": 4,
  "nbformat_minor": 0,
  "metadata": {
    "colab": {
      "provenance": []
    },
    "kernelspec": {
      "name": "python3",
      "display_name": "Python 3"
    },
    "language_info": {
      "name": "python"
    }
  },
  "cells": [
    {
      "cell_type": "markdown",
      "source": [
        "# AI Hallucination Cases Data Analysis\n",
        "\n",
        "## Data\n",
        "\n",
        "[Damien Charlotin’s AI Hallucination Cases database](https://www.damiencharlotin.com/hallucinations/) compiles various cases where attorneys came under fire for letting AI hallucinations appear in their legal deliverables.\n",
        "\n",
        "## Hypotheses\n",
        "\n",
        "Null Hypothesis: All AI tools have been equally frequently associated with the hearings, or outcomes, faced by attorneys.\n",
        "\n",
        "Alternative Hypothesis: Certain AI tools have been more frequently associated with certain attorney outcomes than others.   "
      ],
      "metadata": {
        "id": "SPVD-RhQfeB0"
      }
    },
    {
      "cell_type": "markdown",
      "source": [
        "Installations for complete notebook"
      ],
      "metadata": {
        "id": "Xxrzr4biF9RH"
      }
    },
    {
      "cell_type": "code",
      "execution_count": 30,
      "metadata": {
        "id": "qw_2nzQUzuPA",
        "colab": {
          "base_uri": "https://localhost:8080/"
        },
        "outputId": "e9ed126a-7489-4d0c-c397-1ebe001ba5d6"
      },
      "outputs": [
        {
          "output_type": "stream",
          "name": "stdout",
          "text": [
            "Requirement already satisfied: gensim in /usr/local/lib/python3.11/dist-packages (4.3.3)\n",
            "Requirement already satisfied: numpy<2.0,>=1.18.5 in /usr/local/lib/python3.11/dist-packages (from gensim) (1.26.4)\n",
            "Requirement already satisfied: scipy<1.14.0,>=1.7.0 in /usr/local/lib/python3.11/dist-packages (from gensim) (1.13.1)\n",
            "Requirement already satisfied: smart-open>=1.8.1 in /usr/local/lib/python3.11/dist-packages (from gensim) (7.3.0.post1)\n",
            "Requirement already satisfied: wrapt in /usr/local/lib/python3.11/dist-packages (from smart-open>=1.8.1->gensim) (1.17.2)\n",
            "Requirement already satisfied: pyLDAvis in /usr/local/lib/python3.11/dist-packages (3.4.1)\n",
            "Requirement already satisfied: numpy>=1.24.2 in /usr/local/lib/python3.11/dist-packages (from pyLDAvis) (1.26.4)\n",
            "Requirement already satisfied: scipy in /usr/local/lib/python3.11/dist-packages (from pyLDAvis) (1.13.1)\n",
            "Requirement already satisfied: pandas>=2.0.0 in /usr/local/lib/python3.11/dist-packages (from pyLDAvis) (2.2.2)\n",
            "Requirement already satisfied: joblib>=1.2.0 in /usr/local/lib/python3.11/dist-packages (from pyLDAvis) (1.5.1)\n",
            "Requirement already satisfied: jinja2 in /usr/local/lib/python3.11/dist-packages (from pyLDAvis) (3.1.6)\n",
            "Requirement already satisfied: numexpr in /usr/local/lib/python3.11/dist-packages (from pyLDAvis) (2.11.0)\n",
            "Requirement already satisfied: funcy in /usr/local/lib/python3.11/dist-packages (from pyLDAvis) (2.0)\n",
            "Requirement already satisfied: scikit-learn>=1.0.0 in /usr/local/lib/python3.11/dist-packages (from pyLDAvis) (1.6.1)\n",
            "Requirement already satisfied: gensim in /usr/local/lib/python3.11/dist-packages (from pyLDAvis) (4.3.3)\n",
            "Requirement already satisfied: setuptools in /usr/local/lib/python3.11/dist-packages (from pyLDAvis) (75.2.0)\n",
            "Requirement already satisfied: python-dateutil>=2.8.2 in /usr/local/lib/python3.11/dist-packages (from pandas>=2.0.0->pyLDAvis) (2.9.0.post0)\n",
            "Requirement already satisfied: pytz>=2020.1 in /usr/local/lib/python3.11/dist-packages (from pandas>=2.0.0->pyLDAvis) (2025.2)\n",
            "Requirement already satisfied: tzdata>=2022.7 in /usr/local/lib/python3.11/dist-packages (from pandas>=2.0.0->pyLDAvis) (2025.2)\n",
            "Requirement already satisfied: threadpoolctl>=3.1.0 in /usr/local/lib/python3.11/dist-packages (from scikit-learn>=1.0.0->pyLDAvis) (3.6.0)\n",
            "Requirement already satisfied: smart-open>=1.8.1 in /usr/local/lib/python3.11/dist-packages (from gensim->pyLDAvis) (7.3.0.post1)\n",
            "Requirement already satisfied: MarkupSafe>=2.0 in /usr/local/lib/python3.11/dist-packages (from jinja2->pyLDAvis) (3.0.2)\n",
            "Requirement already satisfied: six>=1.5 in /usr/local/lib/python3.11/dist-packages (from python-dateutil>=2.8.2->pandas>=2.0.0->pyLDAvis) (1.17.0)\n",
            "Requirement already satisfied: wrapt in /usr/local/lib/python3.11/dist-packages (from smart-open>=1.8.1->gensim->pyLDAvis) (1.17.2)\n",
            "Requirement already satisfied: python-dotenv in /usr/local/lib/python3.11/dist-packages (1.1.1)\n"
          ]
        }
      ],
      "source": [
        "!pip install gensim\n",
        "!pip install pyLDAvis\n",
        "!pip install python-dotenv"
      ]
    },
    {
      "cell_type": "code",
      "source": [
        "import pandas as pd\n",
        "import nltk\n",
        "nltk.download('stopwords')\n",
        "nltk.download('punkt_tab')\n",
        "import csv\n",
        "import gensim\n",
        "from gensim.models.coherencemodel import CoherenceModel\n",
        "import pyLDAvis\n",
        "import pyLDAvis.gensim\n",
        "from os import makedirs\n",
        "from os import getenv\n",
        "import openai\n",
        "from dotenv import load_dotenv\n",
        "import matplotlib.pyplot as plt"
      ],
      "metadata": {
        "colab": {
          "base_uri": "https://localhost:8080/"
        },
        "id": "5YBZiyHYiP3i",
        "outputId": "b28ea97e-6a08-41b1-da10-f606695c392c"
      },
      "execution_count": 31,
      "outputs": [
        {
          "output_type": "stream",
          "name": "stderr",
          "text": [
            "[nltk_data] Downloading package stopwords to /root/nltk_data...\n",
            "[nltk_data]   Package stopwords is already up-to-date!\n",
            "[nltk_data] Downloading package punkt_tab to /root/nltk_data...\n",
            "[nltk_data]   Package punkt_tab is already up-to-date!\n"
          ]
        }
      ]
    },
    {
      "cell_type": "markdown",
      "source": [
        "Exploring data"
      ],
      "metadata": {
        "id": "opC5sugNrC6X"
      }
    },
    {
      "cell_type": "code",
      "source": [
        "df = pd.read_csv('Charlotin-hallucination_cases.csv')"
      ],
      "metadata": {
        "id": "-nG9TViMFtjj"
      },
      "execution_count": 32,
      "outputs": []
    },
    {
      "cell_type": "code",
      "source": [
        "df_copy = df.dropna(subset=['Outcome'])\n",
        "\n",
        "for i in range(10):\n",
        "  print(df_copy.loc[df_copy['Outcome'].str.contains(';'), 'Outcome'].iloc[i])\n",
        "  print()"
      ],
      "metadata": {
        "id": "pCZyR3rmf7Di",
        "colab": {
          "base_uri": "https://localhost:8080/"
        },
        "outputId": "0255e239-f916-4f5a-db35-b09c46ed715f"
      },
      "execution_count": 33,
      "outputs": [
        {
          "output_type": "stream",
          "name": "stdout",
          "text": [
            "Motion Record removed from Court file; costs awarded to Applicant\n",
            "\n",
            "Order of costs to other party; no professional referral\n",
            "\n",
            "Order to show cause issued; potential striking of motion\n",
            "\n",
            "Case remanded; monetary penalty\n",
            "\n",
            "Motion is dismissed; Order to show cause\n",
            "\n",
            "CLE Course obligation; endorsement of decision not to bill client\n",
            "\n",
            "Warning; No costs awarded for the appeal since both sides seemingly erred\n",
            "\n",
            "Appeal was ultimately dismissed on merits; Monetary sanction\n",
            "\n",
            "Breach of Rule 11, but no monetary sanction warranted; referred counsel to Lawyers Professional Responsibility Board\n",
            "\n",
            "Plaintiff’s application dismissed; no costs imposed; court warns against future use of generative AI without verification\n",
            "\n"
          ]
        }
      ]
    },
    {
      "cell_type": "code",
      "source": [
        "df['AI Tool'].unique().size"
      ],
      "metadata": {
        "id": "xsY5vNrGjojh",
        "colab": {
          "base_uri": "https://localhost:8080/"
        },
        "outputId": "2ce93fbb-3c12-4e1f-ddc0-2008c83fae84"
      },
      "execution_count": 34,
      "outputs": [
        {
          "output_type": "execute_result",
          "data": {
            "text/plain": [
              "34"
            ]
          },
          "metadata": {},
          "execution_count": 34
        }
      ]
    },
    {
      "cell_type": "markdown",
      "source": [
        "## Methodology\n",
        "\n",
        "Since `df['Outcomes']` contains outcomes in natural language which is inconsistent from row to row. In order to count how many times each outcome occurred on using each AI tool, I will need to make the outcomes consistent across rows. For this, I can try using topic modeling to identify the most common outcomes then use a LLM to automatically classify each row into applicable common outcomes."
      ],
      "metadata": {
        "id": "i9W_twTTfk02"
      }
    },
    {
      "cell_type": "markdown",
      "source": [
        "Finding the most outcomes in `df['Outcomes']` through Topic Modeling."
      ],
      "metadata": {
        "id": "ptIuad6SiKlS"
      }
    },
    {
      "cell_type": "code",
      "source": [
        "stopwords = nltk.corpus.stopwords.words('english')\n",
        "\n",
        "# Exporting stopwords into a CSV just in case one wishes to look over it\n",
        "with open('stopwords.csv', 'w', newline='') as input_file:\n",
        "  writer = csv.writer(input_file)\n",
        "  writer.writerow(stopwords)"
      ],
      "metadata": {
        "id": "5K2KyChtiWnU"
      },
      "execution_count": 35,
      "outputs": []
    },
    {
      "cell_type": "code",
      "source": [
        "def process(token):\n",
        "  token = token.lower()\n",
        "  if len(token) < 4:\n",
        "    return\n",
        "  if not(token.isalpha()):\n",
        "    return\n",
        "  if token in stopwords:\n",
        "    return\n",
        "  return token\n",
        "\n",
        "# Cleaning the entries in df['Outcome'] for increasing the meaningfulness of LDA results\n",
        "cleaned_outcomes = []\n",
        "for outcome in df['Outcome'].dropna():\n",
        "  raw_unigrams = nltk.word_tokenize(outcome)\n",
        "\n",
        "  processed_unigrams = [process(token) for token in raw_unigrams if process(token) is not None]\n",
        "\n",
        "  cleaned_outcomes.append(processed_unigrams)\n",
        "\n",
        "print(f'{len(cleaned_outcomes)} documents processed and added to the \"documents\" list.')"
      ],
      "metadata": {
        "id": "vyelU-eHijAY"
      },
      "execution_count": 36,
      "outputs": []
    },
    {
      "cell_type": "code",
      "source": [
        "dictionary = gensim.corpora.Dictionary(cleaned_outcomes)  # Maps each token to a ID number\n",
        "\n",
        "# Filters out tokens with too low or too high frequencies for forming topics\n",
        "dictionary.filter_extremes(no_below=2, no_above=0.90)\n",
        "\n",
        "# Finds the frequency of each token within a document\n",
        "bow_corpus = [dictionary.doc2bow(outcome) for outcome in cleaned_outcomes]"
      ],
      "metadata": {
        "id": "lkpauTvxjP8P"
      },
      "execution_count": 37,
      "outputs": []
    },
    {
      "cell_type": "markdown",
      "source": [
        "Finding the optimal `num_topics` value for `gensim.models.LdaModel`."
      ],
      "metadata": {
        "id": "huSGSpyv4CBF"
      }
    },
    {
      "cell_type": "code",
      "source": [
        "# Looping through values of num_topics to see which values receive higher coherence scores\n",
        "coherence_results = pd.Series(index=range(2,20), name='UMass Coherence Score')\n",
        "\n",
        "for num_topics in coherence_results.index:\n",
        "  model = gensim.models.LdaModel(\n",
        "      corpus = bow_corpus,\n",
        "      id2word = dictionary,\n",
        "      num_topics = num_topics,\n",
        "      passes = 20,\n",
        "      random_state = 42  # For reproducibility\n",
        "  )\n",
        "  # The UMass coherence scoring system ranges from -14 to 14 with higher numbers indicating higher correlation\n",
        "  coherence_model = CoherenceModel(\n",
        "      model = model,\n",
        "      corpus = bow_corpus,\n",
        "      dictionary = dictionary,\n",
        "      coherence = 'u_mass'\n",
        "  )\n",
        "  coherence = coherence_model.get_coherence()\n",
        "  coherence_results.loc[num_topics] = coherence\n",
        "\n",
        "coherence_results.head()"
      ],
      "metadata": {
        "colab": {
          "base_uri": "https://localhost:8080/",
          "height": 241
        },
        "id": "fdEsJWD2jZyN",
        "outputId": "3261c09c-2f39-4678-8d0a-f78caf05d9bb"
      },
      "execution_count": 38,
      "outputs": [
        {
          "output_type": "execute_result",
          "data": {
            "text/plain": [
              "2   -10.649959\n",
              "3   -11.884605\n",
              "4   -12.238902\n",
              "5   -13.155264\n",
              "6   -12.691299\n",
              "Name: UMass Coherence Score, dtype: float64"
            ],
            "text/html": [
              "<div>\n",
              "<style scoped>\n",
              "    .dataframe tbody tr th:only-of-type {\n",
              "        vertical-align: middle;\n",
              "    }\n",
              "\n",
              "    .dataframe tbody tr th {\n",
              "        vertical-align: top;\n",
              "    }\n",
              "\n",
              "    .dataframe thead th {\n",
              "        text-align: right;\n",
              "    }\n",
              "</style>\n",
              "<table border=\"1\" class=\"dataframe\">\n",
              "  <thead>\n",
              "    <tr style=\"text-align: right;\">\n",
              "      <th></th>\n",
              "      <th>UMass Coherence Score</th>\n",
              "    </tr>\n",
              "  </thead>\n",
              "  <tbody>\n",
              "    <tr>\n",
              "      <th>2</th>\n",
              "      <td>-10.649959</td>\n",
              "    </tr>\n",
              "    <tr>\n",
              "      <th>3</th>\n",
              "      <td>-11.884605</td>\n",
              "    </tr>\n",
              "    <tr>\n",
              "      <th>4</th>\n",
              "      <td>-12.238902</td>\n",
              "    </tr>\n",
              "    <tr>\n",
              "      <th>5</th>\n",
              "      <td>-13.155264</td>\n",
              "    </tr>\n",
              "    <tr>\n",
              "      <th>6</th>\n",
              "      <td>-12.691299</td>\n",
              "    </tr>\n",
              "  </tbody>\n",
              "</table>\n",
              "</div><br><label><b>dtype:</b> float64</label>"
            ]
          },
          "metadata": {},
          "execution_count": 38
        }
      ]
    },
    {
      "cell_type": "code",
      "source": [
        "coherence_results.sort_values(ascending=False).head()"
      ],
      "metadata": {
        "colab": {
          "base_uri": "https://localhost:8080/",
          "height": 241
        },
        "id": "LnURLuswl3eO",
        "outputId": "d73c81cb-e657-4cbe-eca7-810a586abd65"
      },
      "execution_count": 39,
      "outputs": [
        {
          "output_type": "execute_result",
          "data": {
            "text/plain": [
              "2    -10.649959\n",
              "3    -11.884605\n",
              "4    -12.238902\n",
              "6    -12.691299\n",
              "17   -12.772587\n",
              "Name: UMass Coherence Score, dtype: float64"
            ],
            "text/html": [
              "<div>\n",
              "<style scoped>\n",
              "    .dataframe tbody tr th:only-of-type {\n",
              "        vertical-align: middle;\n",
              "    }\n",
              "\n",
              "    .dataframe tbody tr th {\n",
              "        vertical-align: top;\n",
              "    }\n",
              "\n",
              "    .dataframe thead th {\n",
              "        text-align: right;\n",
              "    }\n",
              "</style>\n",
              "<table border=\"1\" class=\"dataframe\">\n",
              "  <thead>\n",
              "    <tr style=\"text-align: right;\">\n",
              "      <th></th>\n",
              "      <th>UMass Coherence Score</th>\n",
              "    </tr>\n",
              "  </thead>\n",
              "  <tbody>\n",
              "    <tr>\n",
              "      <th>2</th>\n",
              "      <td>-10.649959</td>\n",
              "    </tr>\n",
              "    <tr>\n",
              "      <th>3</th>\n",
              "      <td>-11.884605</td>\n",
              "    </tr>\n",
              "    <tr>\n",
              "      <th>4</th>\n",
              "      <td>-12.238902</td>\n",
              "    </tr>\n",
              "    <tr>\n",
              "      <th>6</th>\n",
              "      <td>-12.691299</td>\n",
              "    </tr>\n",
              "    <tr>\n",
              "      <th>17</th>\n",
              "      <td>-12.772587</td>\n",
              "    </tr>\n",
              "  </tbody>\n",
              "</table>\n",
              "</div><br><label><b>dtype:</b> float64</label>"
            ]
          },
          "metadata": {},
          "execution_count": 39
        }
      ]
    },
    {
      "cell_type": "code",
      "source": [
        "# Checking if num_topics = 2 would accurately represent the diversity of topics\n",
        "# or outcome types in df['Outcome']\n",
        "df['Outcome'].dropna().head(10)"
      ],
      "metadata": {
        "colab": {
          "base_uri": "https://localhost:8080/",
          "height": 398
        },
        "id": "kow1cosrwK-7",
        "outputId": "0531c4ee-8295-4844-d11c-47fe15b5d770"
      },
      "execution_count": 40,
      "outputs": [
        {
          "output_type": "execute_result",
          "data": {
            "text/plain": [
              "0        Sanction of $5,500 and mandatory AI education\n",
              "1                                  Order to show cause\n",
              "2                                  Order to Show Cause\n",
              "3                        Counsel removed from the case\n",
              "4                                              Warning\n",
              "5    Cases dismissed without prejudice, attorney or...\n",
              "6    Monetary sanction of $1000, CLE requirement, r...\n",
              "7    Order to show cause issued for potential sanct...\n",
              "8    Motion Record removed from Court file; costs a...\n",
              "9                  Monetary and professional sanctions\n",
              "Name: Outcome, dtype: object"
            ],
            "text/html": [
              "<div>\n",
              "<style scoped>\n",
              "    .dataframe tbody tr th:only-of-type {\n",
              "        vertical-align: middle;\n",
              "    }\n",
              "\n",
              "    .dataframe tbody tr th {\n",
              "        vertical-align: top;\n",
              "    }\n",
              "\n",
              "    .dataframe thead th {\n",
              "        text-align: right;\n",
              "    }\n",
              "</style>\n",
              "<table border=\"1\" class=\"dataframe\">\n",
              "  <thead>\n",
              "    <tr style=\"text-align: right;\">\n",
              "      <th></th>\n",
              "      <th>Outcome</th>\n",
              "    </tr>\n",
              "  </thead>\n",
              "  <tbody>\n",
              "    <tr>\n",
              "      <th>0</th>\n",
              "      <td>Sanction of $5,500 and mandatory AI education</td>\n",
              "    </tr>\n",
              "    <tr>\n",
              "      <th>1</th>\n",
              "      <td>Order to show cause</td>\n",
              "    </tr>\n",
              "    <tr>\n",
              "      <th>2</th>\n",
              "      <td>Order to Show Cause</td>\n",
              "    </tr>\n",
              "    <tr>\n",
              "      <th>3</th>\n",
              "      <td>Counsel removed from the case</td>\n",
              "    </tr>\n",
              "    <tr>\n",
              "      <th>4</th>\n",
              "      <td>Warning</td>\n",
              "    </tr>\n",
              "    <tr>\n",
              "      <th>5</th>\n",
              "      <td>Cases dismissed without prejudice, attorney or...</td>\n",
              "    </tr>\n",
              "    <tr>\n",
              "      <th>6</th>\n",
              "      <td>Monetary sanction of $1000, CLE requirement, r...</td>\n",
              "    </tr>\n",
              "    <tr>\n",
              "      <th>7</th>\n",
              "      <td>Order to show cause issued for potential sanct...</td>\n",
              "    </tr>\n",
              "    <tr>\n",
              "      <th>8</th>\n",
              "      <td>Motion Record removed from Court file; costs a...</td>\n",
              "    </tr>\n",
              "    <tr>\n",
              "      <th>9</th>\n",
              "      <td>Monetary and professional sanctions</td>\n",
              "    </tr>\n",
              "  </tbody>\n",
              "</table>\n",
              "</div><br><label><b>dtype:</b> object</label>"
            ]
          },
          "metadata": {},
          "execution_count": 40
        }
      ]
    },
    {
      "cell_type": "markdown",
      "source": [
        "I have set `num_topics` to 4 despite `num_topics = 2` having a considerably better coherence score than `num_topics = 4`. This is because, as visible below, `df['Outcome']` shows more than 2 distinct topics or types of outcomes including warning, sanction, order to show cause, dismissal, among others.\n",
        "\n",
        "UMass often favors smaller values of `num_topics` because it assesses coherence based on co-occurrence of words in each topic.\n",
        "\n",
        "`num_topics = 4` will help balance coherence with representation of topics."
      ],
      "metadata": {
        "id": "HH-Wm4Dil7Bh"
      }
    },
    {
      "cell_type": "code",
      "source": [
        "%%time\n",
        "model = gensim.models.LdaModel(\n",
        "      corpus = bow_corpus,\n",
        "      id2word = dictionary,\n",
        "      passes = 20,\n",
        "      num_topics = 4,\n",
        "      random_state = 42  # For reproducibility\n",
        "  )"
      ],
      "metadata": {
        "colab": {
          "base_uri": "https://localhost:8080/"
        },
        "id": "eNQXiiFOmpSG",
        "outputId": "4d17fa26-420b-4731-da87-b5507904aaf6"
      },
      "execution_count": 41,
      "outputs": [
        {
          "output_type": "stream",
          "name": "stdout",
          "text": [
            "CPU times: user 1.56 s, sys: 33.2 ms, total: 1.6 s\n",
            "Wall time: 1.58 s\n"
          ]
        }
      ]
    },
    {
      "cell_type": "code",
      "source": [
        "for num_topic in range(model.num_topics):\n",
        "  word_ids = model.get_topic_terms(num_topic)\n",
        "  words = []\n",
        "  for word_id, weight in word_ids:\n",
        "    word = dictionary[word_id]\n",
        "    words.append(word)\n",
        "  print('Topic ' + str(num_topic).ljust(5) + ' '.join(words))"
      ],
      "metadata": {
        "colab": {
          "base_uri": "https://localhost:8080/"
        },
        "id": "6UH3SFtQwrLS",
        "outputId": "471f71be-fc34-417e-8fbb-9a58b81d317e"
      },
      "execution_count": 42,
      "outputs": [
        {
          "output_type": "stream",
          "name": "stdout",
          "text": [
            "Topic 0    order show cause judicial costs sanction motion client reprimand merits\n",
            "Topic 1    case dismissed legal sanction referral referred court costs counsel monetary\n",
            "Topic 2    sanction monetary sanctions imposed court formal granted citations dismissal prejudice\n",
            "Topic 3    warning fine costs plaintiff monetary attorney dismissed submissions fees without\n"
          ]
        }
      ]
    },
    {
      "cell_type": "markdown",
      "source": [
        "Creating an interactive dashboard for visualizing the most common topics"
      ],
      "metadata": {
        "id": "I15hB9zjE_MX"
      }
    },
    {
      "cell_type": "code",
      "source": [
        "makedirs('visualizations', exist_ok=True)\n",
        "\n",
        "i = pyLDAvis.gensim.prepare(model, bow_corpus, dictionary)\n",
        "pyLDAvis.save_html(i, 'visualizations/topic_model.html')"
      ],
      "metadata": {
        "id": "KAMIoVVv1QYR"
      },
      "execution_count": 43,
      "outputs": []
    },
    {
      "cell_type": "markdown",
      "source": [
        "Declaring and assigning `outcome_types`, the list of outcome types to which the LLM will classify each outcome into.  "
      ],
      "metadata": {
        "id": "tfSGoWsk28L-"
      }
    },
    {
      "cell_type": "code",
      "source": [
        "outcome_types = ['order to show cause', 'dismissed', 'sanction', 'warning', 'other']"
      ],
      "metadata": {
        "id": "NKqKMiXh0wQd"
      },
      "execution_count": 44,
      "outputs": []
    },
    {
      "cell_type": "markdown",
      "source": [
        "**Automatic classification using a LLM:** Unfortunately, as visible below, a vast majority of entries in `df['AI Tool']` are either 'Implied' or 'Unidentified,' making it difficult to tell if certain AI models are more associated with certain outcomes.\n",
        "\n",
        "Nevertheless, since my main objective was to gain experience with the data analysis techiques, I will continue with the project, sampling as many rows as possible for the most commonly used known AI tools. I would like to sample 5 AI tools as a starting point."
      ],
      "metadata": {
        "id": "tRfFYZCLhz9m"
      }
    },
    {
      "cell_type": "code",
      "source": [
        "top_5_AI_Tools = df['AI Tool'].value_counts()[:9]\n",
        "\n",
        "print(top_5_AI_Tools)"
      ],
      "metadata": {
        "id": "An7OiKpglzWW",
        "colab": {
          "base_uri": "https://localhost:8080/"
        },
        "outputId": "aa2c6269-42c2-44b2-d7d5-69459b6dac60"
      },
      "execution_count": 45,
      "outputs": [
        {
          "output_type": "stream",
          "name": "stdout",
          "text": [
            "AI Tool\n",
            "Implied         92\n",
            "Unidentified    66\n",
            "ChatGPT         30\n",
            "Copilot          2\n",
            "Claude           2\n",
            "EyeLevel         1\n",
            "MS Copilot       1\n",
            "Unknown          1\n",
            "GPT-4o           1\n",
            "Name: count, dtype: int64\n"
          ]
        }
      ]
    },
    {
      "cell_type": "code",
      "source": [
        "top_5_AI_Tools = df['AI Tool'].value_counts().index.tolist()[2:7]\n",
        "print(top_5_AI_Tools)"
      ],
      "metadata": {
        "id": "bUIJ_eHSmc9Z",
        "colab": {
          "base_uri": "https://localhost:8080/"
        },
        "outputId": "f2478607-0c22-4348-9224-fc5539e2bead"
      },
      "execution_count": 46,
      "outputs": [
        {
          "output_type": "stream",
          "name": "stdout",
          "text": [
            "['ChatGPT', 'Copilot', 'Claude', 'EyeLevel', 'MS Copilot']\n"
          ]
        }
      ]
    },
    {
      "cell_type": "code",
      "source": [
        "sys_msg = f'''Identify the court case outcome type(s).\n",
        "Respond with only one or more terms from: {\", \".join(outcome_types[:-1])}, or {outcome_types[-1]}'''\n",
        "\n",
        "load_dotenv('key.env')\n",
        "\n",
        "client = openai.OpenAI(\n",
        "    api_key = getenv('OPENAI_API_KEY'),\n",
        "    base_url = getenv('GOOGLE_BASE_URL')\n",
        ")\n",
        "\n",
        "# I am using model='gemini-2.5-flash-lite' to balance intelligence with RPM\n",
        "def make_completion(user_msg, model='gemini-2.5-flash-lite', print_msg = False):\n",
        "  completion = client.chat.completions.create(\n",
        "      model = model,\n",
        "      messages = [\n",
        "          {'role': 'system', 'content': sys_msg},\n",
        "          {'role': 'user', 'content': user_msg}\n",
        "      ]\n",
        "  )\n",
        "  if print_msg:\n",
        "    print('System message:', sys_msg, '\\n')\n",
        "    print('User message:', user_msg, '\\n')\n",
        "    print('Assistant Response:', completion.choices[0].message.content, '\\n'+'-'*140)\n",
        "  return completion.choices[0].message.content\n",
        "\n",
        "# I cannot sample all 30 ChatGPT rows since RPM = 15\n",
        "sample_df = df[df['AI Tool'] == 'ChatGPT'].dropna(\n",
        "    subset=['Outcome']).sample(n=9, random_state=42, replace=True).copy()\n",
        "\n",
        "# Other tools in top_5_AI_Tools only have 1-2 rows, so I have directly taken them without random sampling\n",
        "sample_df = pd.concat([sample_df, df[df['AI Tool'].isin(top_5_AI_Tools[1:])].dropna(subset=['Outcome'])])\n",
        "\n",
        "sample_df['LLM_output'] = sample_df['Outcome'].apply(make_completion)"
      ],
      "metadata": {
        "id": "zYWtRZuPKCbI"
      },
      "execution_count": 47,
      "outputs": []
    },
    {
      "cell_type": "code",
      "source": [
        "sample_df.head(3)"
      ],
      "metadata": {
        "id": "Or7objAbouJd",
        "colab": {
          "base_uri": "https://localhost:8080/",
          "height": 441
        },
        "outputId": "f9dc9201-b5f6-4818-b28c-ceb339a522e0"
      },
      "execution_count": 48,
      "outputs": [
        {
          "output_type": "execute_result",
          "data": {
            "text/plain": [
              "                                             Case Name  \\\n",
              "58       Powhatan County School Board v. Skinger et al   \n",
              "157  Body by Michael Pty Ltd and Industry Innovatio...   \n",
              "135                                             A v. B   \n",
              "\n",
              "                              Court   State(s)        Date       Party(ies)  \\\n",
              "58                    E.D. Virginia        USA  2025-06-02  Pro Se Litigant   \n",
              "157  Administrative Review Tribunal  Australia  2025-01-24  Pro Se Litigant   \n",
              "135                        Florence      Italy  2025-03-13           Lawyer   \n",
              "\n",
              "     AI Tool                                      Hallucination  \\\n",
              "58   ChatGPT                               Fabricated citations   \n",
              "157  ChatGPT  Fabricated references to non-existent cases (w...   \n",
              "135  ChatGPT                      Fabricated case law citations   \n",
              "\n",
              "                                               Outcome Monetary Penalty  \\\n",
              "58                           Relevant motions stricken              NaN   \n",
              "157       Fake references withdrawn before the hearing              NaN   \n",
              "135  No financial sanction; Formal Judicial Reprima...              NaN   \n",
              "\n",
              "    Professional Sanction                                      Key Principle  \\\n",
              "58                     No                                                NaN   \n",
              "157                    No                                                NaN   \n",
              "135                    No  Reliance on ChatGPT-generated fake legal prece...   \n",
              "\n",
              "    Pointer                                             Source  \\\n",
              "58      NaN  /documents/473/Powhatan_County_School_Board_v....   \n",
              "157     NaN  /documents/543/Industry_Innovation_and_Science...   \n",
              "135     NaN  https://www.damiencharlotin.com/documents/254/...   \n",
              "\n",
              "                                               Details LLM_output  \n",
              "58   \"The pervasive misrepresentations of the law i...  Dismissed  \n",
              "157  \"Nevertheless, due to that withdrawal being re...  dismissed  \n",
              "135  AI UseThe respondent retailer's defense cited ...   sanction  "
            ],
            "text/html": [
              "\n",
              "  <div id=\"df-6e136f70-7821-4c82-aadf-2292a8f030a3\" class=\"colab-df-container\">\n",
              "    <div>\n",
              "<style scoped>\n",
              "    .dataframe tbody tr th:only-of-type {\n",
              "        vertical-align: middle;\n",
              "    }\n",
              "\n",
              "    .dataframe tbody tr th {\n",
              "        vertical-align: top;\n",
              "    }\n",
              "\n",
              "    .dataframe thead th {\n",
              "        text-align: right;\n",
              "    }\n",
              "</style>\n",
              "<table border=\"1\" class=\"dataframe\">\n",
              "  <thead>\n",
              "    <tr style=\"text-align: right;\">\n",
              "      <th></th>\n",
              "      <th>Case Name</th>\n",
              "      <th>Court</th>\n",
              "      <th>State(s)</th>\n",
              "      <th>Date</th>\n",
              "      <th>Party(ies)</th>\n",
              "      <th>AI Tool</th>\n",
              "      <th>Hallucination</th>\n",
              "      <th>Outcome</th>\n",
              "      <th>Monetary Penalty</th>\n",
              "      <th>Professional Sanction</th>\n",
              "      <th>Key Principle</th>\n",
              "      <th>Pointer</th>\n",
              "      <th>Source</th>\n",
              "      <th>Details</th>\n",
              "      <th>LLM_output</th>\n",
              "    </tr>\n",
              "  </thead>\n",
              "  <tbody>\n",
              "    <tr>\n",
              "      <th>58</th>\n",
              "      <td>Powhatan County School Board v. Skinger et al</td>\n",
              "      <td>E.D. Virginia</td>\n",
              "      <td>USA</td>\n",
              "      <td>2025-06-02</td>\n",
              "      <td>Pro Se Litigant</td>\n",
              "      <td>ChatGPT</td>\n",
              "      <td>Fabricated citations</td>\n",
              "      <td>Relevant motions stricken</td>\n",
              "      <td>NaN</td>\n",
              "      <td>No</td>\n",
              "      <td>NaN</td>\n",
              "      <td>NaN</td>\n",
              "      <td>/documents/473/Powhatan_County_School_Board_v....</td>\n",
              "      <td>\"The pervasive misrepresentations of the law i...</td>\n",
              "      <td>Dismissed</td>\n",
              "    </tr>\n",
              "    <tr>\n",
              "      <th>157</th>\n",
              "      <td>Body by Michael Pty Ltd and Industry Innovatio...</td>\n",
              "      <td>Administrative Review Tribunal</td>\n",
              "      <td>Australia</td>\n",
              "      <td>2025-01-24</td>\n",
              "      <td>Pro Se Litigant</td>\n",
              "      <td>ChatGPT</td>\n",
              "      <td>Fabricated references to non-existent cases (w...</td>\n",
              "      <td>Fake references withdrawn before the hearing</td>\n",
              "      <td>NaN</td>\n",
              "      <td>No</td>\n",
              "      <td>NaN</td>\n",
              "      <td>NaN</td>\n",
              "      <td>/documents/543/Industry_Innovation_and_Science...</td>\n",
              "      <td>\"Nevertheless, due to that withdrawal being re...</td>\n",
              "      <td>dismissed</td>\n",
              "    </tr>\n",
              "    <tr>\n",
              "      <th>135</th>\n",
              "      <td>A v. B</td>\n",
              "      <td>Florence</td>\n",
              "      <td>Italy</td>\n",
              "      <td>2025-03-13</td>\n",
              "      <td>Lawyer</td>\n",
              "      <td>ChatGPT</td>\n",
              "      <td>Fabricated case law citations</td>\n",
              "      <td>No financial sanction; Formal Judicial Reprima...</td>\n",
              "      <td>NaN</td>\n",
              "      <td>No</td>\n",
              "      <td>Reliance on ChatGPT-generated fake legal prece...</td>\n",
              "      <td>NaN</td>\n",
              "      <td>https://www.damiencharlotin.com/documents/254/...</td>\n",
              "      <td>AI UseThe respondent retailer's defense cited ...</td>\n",
              "      <td>sanction</td>\n",
              "    </tr>\n",
              "  </tbody>\n",
              "</table>\n",
              "</div>\n",
              "    <div class=\"colab-df-buttons\">\n",
              "\n",
              "  <div class=\"colab-df-container\">\n",
              "    <button class=\"colab-df-convert\" onclick=\"convertToInteractive('df-6e136f70-7821-4c82-aadf-2292a8f030a3')\"\n",
              "            title=\"Convert this dataframe to an interactive table.\"\n",
              "            style=\"display:none;\">\n",
              "\n",
              "  <svg xmlns=\"http://www.w3.org/2000/svg\" height=\"24px\" viewBox=\"0 -960 960 960\">\n",
              "    <path d=\"M120-120v-720h720v720H120Zm60-500h600v-160H180v160Zm220 220h160v-160H400v160Zm0 220h160v-160H400v160ZM180-400h160v-160H180v160Zm440 0h160v-160H620v160ZM180-180h160v-160H180v160Zm440 0h160v-160H620v160Z\"/>\n",
              "  </svg>\n",
              "    </button>\n",
              "\n",
              "  <style>\n",
              "    .colab-df-container {\n",
              "      display:flex;\n",
              "      gap: 12px;\n",
              "    }\n",
              "\n",
              "    .colab-df-convert {\n",
              "      background-color: #E8F0FE;\n",
              "      border: none;\n",
              "      border-radius: 50%;\n",
              "      cursor: pointer;\n",
              "      display: none;\n",
              "      fill: #1967D2;\n",
              "      height: 32px;\n",
              "      padding: 0 0 0 0;\n",
              "      width: 32px;\n",
              "    }\n",
              "\n",
              "    .colab-df-convert:hover {\n",
              "      background-color: #E2EBFA;\n",
              "      box-shadow: 0px 1px 2px rgba(60, 64, 67, 0.3), 0px 1px 3px 1px rgba(60, 64, 67, 0.15);\n",
              "      fill: #174EA6;\n",
              "    }\n",
              "\n",
              "    .colab-df-buttons div {\n",
              "      margin-bottom: 4px;\n",
              "    }\n",
              "\n",
              "    [theme=dark] .colab-df-convert {\n",
              "      background-color: #3B4455;\n",
              "      fill: #D2E3FC;\n",
              "    }\n",
              "\n",
              "    [theme=dark] .colab-df-convert:hover {\n",
              "      background-color: #434B5C;\n",
              "      box-shadow: 0px 1px 3px 1px rgba(0, 0, 0, 0.15);\n",
              "      filter: drop-shadow(0px 1px 2px rgba(0, 0, 0, 0.3));\n",
              "      fill: #FFFFFF;\n",
              "    }\n",
              "  </style>\n",
              "\n",
              "    <script>\n",
              "      const buttonEl =\n",
              "        document.querySelector('#df-6e136f70-7821-4c82-aadf-2292a8f030a3 button.colab-df-convert');\n",
              "      buttonEl.style.display =\n",
              "        google.colab.kernel.accessAllowed ? 'block' : 'none';\n",
              "\n",
              "      async function convertToInteractive(key) {\n",
              "        const element = document.querySelector('#df-6e136f70-7821-4c82-aadf-2292a8f030a3');\n",
              "        const dataTable =\n",
              "          await google.colab.kernel.invokeFunction('convertToInteractive',\n",
              "                                                    [key], {});\n",
              "        if (!dataTable) return;\n",
              "\n",
              "        const docLinkHtml = 'Like what you see? Visit the ' +\n",
              "          '<a target=\"_blank\" href=https://colab.research.google.com/notebooks/data_table.ipynb>data table notebook</a>'\n",
              "          + ' to learn more about interactive tables.';\n",
              "        element.innerHTML = '';\n",
              "        dataTable['output_type'] = 'display_data';\n",
              "        await google.colab.output.renderOutput(dataTable, element);\n",
              "        const docLink = document.createElement('div');\n",
              "        docLink.innerHTML = docLinkHtml;\n",
              "        element.appendChild(docLink);\n",
              "      }\n",
              "    </script>\n",
              "  </div>\n",
              "\n",
              "\n",
              "    <div id=\"df-b422b157-99cd-4801-9e12-b56081c1d0a8\">\n",
              "      <button class=\"colab-df-quickchart\" onclick=\"quickchart('df-b422b157-99cd-4801-9e12-b56081c1d0a8')\"\n",
              "                title=\"Suggest charts\"\n",
              "                style=\"display:none;\">\n",
              "\n",
              "<svg xmlns=\"http://www.w3.org/2000/svg\" height=\"24px\"viewBox=\"0 0 24 24\"\n",
              "     width=\"24px\">\n",
              "    <g>\n",
              "        <path d=\"M19 3H5c-1.1 0-2 .9-2 2v14c0 1.1.9 2 2 2h14c1.1 0 2-.9 2-2V5c0-1.1-.9-2-2-2zM9 17H7v-7h2v7zm4 0h-2V7h2v10zm4 0h-2v-4h2v4z\"/>\n",
              "    </g>\n",
              "</svg>\n",
              "      </button>\n",
              "\n",
              "<style>\n",
              "  .colab-df-quickchart {\n",
              "      --bg-color: #E8F0FE;\n",
              "      --fill-color: #1967D2;\n",
              "      --hover-bg-color: #E2EBFA;\n",
              "      --hover-fill-color: #174EA6;\n",
              "      --disabled-fill-color: #AAA;\n",
              "      --disabled-bg-color: #DDD;\n",
              "  }\n",
              "\n",
              "  [theme=dark] .colab-df-quickchart {\n",
              "      --bg-color: #3B4455;\n",
              "      --fill-color: #D2E3FC;\n",
              "      --hover-bg-color: #434B5C;\n",
              "      --hover-fill-color: #FFFFFF;\n",
              "      --disabled-bg-color: #3B4455;\n",
              "      --disabled-fill-color: #666;\n",
              "  }\n",
              "\n",
              "  .colab-df-quickchart {\n",
              "    background-color: var(--bg-color);\n",
              "    border: none;\n",
              "    border-radius: 50%;\n",
              "    cursor: pointer;\n",
              "    display: none;\n",
              "    fill: var(--fill-color);\n",
              "    height: 32px;\n",
              "    padding: 0;\n",
              "    width: 32px;\n",
              "  }\n",
              "\n",
              "  .colab-df-quickchart:hover {\n",
              "    background-color: var(--hover-bg-color);\n",
              "    box-shadow: 0 1px 2px rgba(60, 64, 67, 0.3), 0 1px 3px 1px rgba(60, 64, 67, 0.15);\n",
              "    fill: var(--button-hover-fill-color);\n",
              "  }\n",
              "\n",
              "  .colab-df-quickchart-complete:disabled,\n",
              "  .colab-df-quickchart-complete:disabled:hover {\n",
              "    background-color: var(--disabled-bg-color);\n",
              "    fill: var(--disabled-fill-color);\n",
              "    box-shadow: none;\n",
              "  }\n",
              "\n",
              "  .colab-df-spinner {\n",
              "    border: 2px solid var(--fill-color);\n",
              "    border-color: transparent;\n",
              "    border-bottom-color: var(--fill-color);\n",
              "    animation:\n",
              "      spin 1s steps(1) infinite;\n",
              "  }\n",
              "\n",
              "  @keyframes spin {\n",
              "    0% {\n",
              "      border-color: transparent;\n",
              "      border-bottom-color: var(--fill-color);\n",
              "      border-left-color: var(--fill-color);\n",
              "    }\n",
              "    20% {\n",
              "      border-color: transparent;\n",
              "      border-left-color: var(--fill-color);\n",
              "      border-top-color: var(--fill-color);\n",
              "    }\n",
              "    30% {\n",
              "      border-color: transparent;\n",
              "      border-left-color: var(--fill-color);\n",
              "      border-top-color: var(--fill-color);\n",
              "      border-right-color: var(--fill-color);\n",
              "    }\n",
              "    40% {\n",
              "      border-color: transparent;\n",
              "      border-right-color: var(--fill-color);\n",
              "      border-top-color: var(--fill-color);\n",
              "    }\n",
              "    60% {\n",
              "      border-color: transparent;\n",
              "      border-right-color: var(--fill-color);\n",
              "    }\n",
              "    80% {\n",
              "      border-color: transparent;\n",
              "      border-right-color: var(--fill-color);\n",
              "      border-bottom-color: var(--fill-color);\n",
              "    }\n",
              "    90% {\n",
              "      border-color: transparent;\n",
              "      border-bottom-color: var(--fill-color);\n",
              "    }\n",
              "  }\n",
              "</style>\n",
              "\n",
              "      <script>\n",
              "        async function quickchart(key) {\n",
              "          const quickchartButtonEl =\n",
              "            document.querySelector('#' + key + ' button');\n",
              "          quickchartButtonEl.disabled = true;  // To prevent multiple clicks.\n",
              "          quickchartButtonEl.classList.add('colab-df-spinner');\n",
              "          try {\n",
              "            const charts = await google.colab.kernel.invokeFunction(\n",
              "                'suggestCharts', [key], {});\n",
              "          } catch (error) {\n",
              "            console.error('Error during call to suggestCharts:', error);\n",
              "          }\n",
              "          quickchartButtonEl.classList.remove('colab-df-spinner');\n",
              "          quickchartButtonEl.classList.add('colab-df-quickchart-complete');\n",
              "        }\n",
              "        (() => {\n",
              "          let quickchartButtonEl =\n",
              "            document.querySelector('#df-b422b157-99cd-4801-9e12-b56081c1d0a8 button');\n",
              "          quickchartButtonEl.style.display =\n",
              "            google.colab.kernel.accessAllowed ? 'block' : 'none';\n",
              "        })();\n",
              "      </script>\n",
              "    </div>\n",
              "\n",
              "    </div>\n",
              "  </div>\n"
            ],
            "application/vnd.google.colaboratory.intrinsic+json": {
              "type": "dataframe",
              "variable_name": "sample_df",
              "repr_error": "0"
            }
          },
          "metadata": {},
          "execution_count": 48
        }
      ]
    },
    {
      "cell_type": "code",
      "source": [
        "sample_df['LLM_output'].head()"
      ],
      "metadata": {
        "id": "ZIMS4oo7olaH",
        "colab": {
          "base_uri": "https://localhost:8080/",
          "height": 241
        },
        "outputId": "b652aa8a-eda7-42fe-b595-45a4711cdd68"
      },
      "execution_count": 49,
      "outputs": [
        {
          "output_type": "execute_result",
          "data": {
            "text/plain": [
              "58              Dismissed\n",
              "157             dismissed\n",
              "135              sanction\n",
              "110              sanction\n",
              "63     dismissed, warning\n",
              "Name: LLM_output, dtype: object"
            ],
            "text/html": [
              "<div>\n",
              "<style scoped>\n",
              "    .dataframe tbody tr th:only-of-type {\n",
              "        vertical-align: middle;\n",
              "    }\n",
              "\n",
              "    .dataframe tbody tr th {\n",
              "        vertical-align: top;\n",
              "    }\n",
              "\n",
              "    .dataframe thead th {\n",
              "        text-align: right;\n",
              "    }\n",
              "</style>\n",
              "<table border=\"1\" class=\"dataframe\">\n",
              "  <thead>\n",
              "    <tr style=\"text-align: right;\">\n",
              "      <th></th>\n",
              "      <th>LLM_output</th>\n",
              "    </tr>\n",
              "  </thead>\n",
              "  <tbody>\n",
              "    <tr>\n",
              "      <th>58</th>\n",
              "      <td>Dismissed</td>\n",
              "    </tr>\n",
              "    <tr>\n",
              "      <th>157</th>\n",
              "      <td>dismissed</td>\n",
              "    </tr>\n",
              "    <tr>\n",
              "      <th>135</th>\n",
              "      <td>sanction</td>\n",
              "    </tr>\n",
              "    <tr>\n",
              "      <th>110</th>\n",
              "      <td>sanction</td>\n",
              "    </tr>\n",
              "    <tr>\n",
              "      <th>63</th>\n",
              "      <td>dismissed, warning</td>\n",
              "    </tr>\n",
              "  </tbody>\n",
              "</table>\n",
              "</div><br><label><b>dtype:</b> object</label>"
            ]
          },
          "metadata": {},
          "execution_count": 49
        }
      ]
    },
    {
      "cell_type": "markdown",
      "source": [
        "Visualizing the frequency distribution of associated AI tools for each outcome type"
      ],
      "metadata": {
        "id": "ngoZ3nu5icmo"
      }
    },
    {
      "cell_type": "code",
      "source": [
        "tool_freq_distributions = pd.DataFrame()\n",
        "\n",
        "# Ensuring all entries in sample_df['LLM_output'] are in the same case\n",
        "sample_df['LLM_output'] = sample_df['LLM_output'].str.lower()\n",
        "\n",
        "# I can easily visualize the frequency distribution of associated AI tools for\n",
        "# each outcome type by creating a pd.DataFrame with outcome_types as the index,\n",
        "# the AI tools as columns, and the frequencies with which rows of each AI tool\n",
        "# in sample_df contained the outcome type as values.\n",
        "for tool in top_5_AI_Tools:\n",
        "  for outcome in outcome_types:\n",
        "    tool_freq_distributions.loc[outcome, tool] = sample_df.loc[\n",
        "        sample_df['LLM_output'].str.contains(outcome), 'AI Tool'].value_counts(\n",
        "            normalize=True).loc[tool] if tool in sample_df.loc[sample_df[\n",
        "                'LLM_output'].str.contains(outcome), 'AI Tool'].tolist() else 0.0\n",
        "\n",
        "tool_freq_distributions"
      ],
      "metadata": {
        "colab": {
          "base_uri": "https://localhost:8080/",
          "height": 206
        },
        "id": "N0Vt5Sfz8yCj",
        "outputId": "f6270095-caa8-477c-a527-7e18edc84185"
      },
      "execution_count": 50,
      "outputs": [
        {
          "output_type": "execute_result",
          "data": {
            "text/plain": [
              "                     ChatGPT   Copilot    Claude  EyeLevel  MS Copilot\n",
              "order to show cause     0.00  0.000000  0.000000      0.00        0.00\n",
              "dismissed               1.00  0.000000  0.000000      0.00        0.00\n",
              "sanction                0.50  0.166667  0.333333      0.00        0.00\n",
              "warning                 1.00  0.000000  0.000000      0.00        0.00\n",
              "other                   0.25  0.250000  0.000000      0.25        0.25"
            ],
            "text/html": [
              "\n",
              "  <div id=\"df-6161236b-6f33-488d-bc80-f48e38b49441\" class=\"colab-df-container\">\n",
              "    <div>\n",
              "<style scoped>\n",
              "    .dataframe tbody tr th:only-of-type {\n",
              "        vertical-align: middle;\n",
              "    }\n",
              "\n",
              "    .dataframe tbody tr th {\n",
              "        vertical-align: top;\n",
              "    }\n",
              "\n",
              "    .dataframe thead th {\n",
              "        text-align: right;\n",
              "    }\n",
              "</style>\n",
              "<table border=\"1\" class=\"dataframe\">\n",
              "  <thead>\n",
              "    <tr style=\"text-align: right;\">\n",
              "      <th></th>\n",
              "      <th>ChatGPT</th>\n",
              "      <th>Copilot</th>\n",
              "      <th>Claude</th>\n",
              "      <th>EyeLevel</th>\n",
              "      <th>MS Copilot</th>\n",
              "    </tr>\n",
              "  </thead>\n",
              "  <tbody>\n",
              "    <tr>\n",
              "      <th>order to show cause</th>\n",
              "      <td>0.00</td>\n",
              "      <td>0.000000</td>\n",
              "      <td>0.000000</td>\n",
              "      <td>0.00</td>\n",
              "      <td>0.00</td>\n",
              "    </tr>\n",
              "    <tr>\n",
              "      <th>dismissed</th>\n",
              "      <td>1.00</td>\n",
              "      <td>0.000000</td>\n",
              "      <td>0.000000</td>\n",
              "      <td>0.00</td>\n",
              "      <td>0.00</td>\n",
              "    </tr>\n",
              "    <tr>\n",
              "      <th>sanction</th>\n",
              "      <td>0.50</td>\n",
              "      <td>0.166667</td>\n",
              "      <td>0.333333</td>\n",
              "      <td>0.00</td>\n",
              "      <td>0.00</td>\n",
              "    </tr>\n",
              "    <tr>\n",
              "      <th>warning</th>\n",
              "      <td>1.00</td>\n",
              "      <td>0.000000</td>\n",
              "      <td>0.000000</td>\n",
              "      <td>0.00</td>\n",
              "      <td>0.00</td>\n",
              "    </tr>\n",
              "    <tr>\n",
              "      <th>other</th>\n",
              "      <td>0.25</td>\n",
              "      <td>0.250000</td>\n",
              "      <td>0.000000</td>\n",
              "      <td>0.25</td>\n",
              "      <td>0.25</td>\n",
              "    </tr>\n",
              "  </tbody>\n",
              "</table>\n",
              "</div>\n",
              "    <div class=\"colab-df-buttons\">\n",
              "\n",
              "  <div class=\"colab-df-container\">\n",
              "    <button class=\"colab-df-convert\" onclick=\"convertToInteractive('df-6161236b-6f33-488d-bc80-f48e38b49441')\"\n",
              "            title=\"Convert this dataframe to an interactive table.\"\n",
              "            style=\"display:none;\">\n",
              "\n",
              "  <svg xmlns=\"http://www.w3.org/2000/svg\" height=\"24px\" viewBox=\"0 -960 960 960\">\n",
              "    <path d=\"M120-120v-720h720v720H120Zm60-500h600v-160H180v160Zm220 220h160v-160H400v160Zm0 220h160v-160H400v160ZM180-400h160v-160H180v160Zm440 0h160v-160H620v160ZM180-180h160v-160H180v160Zm440 0h160v-160H620v160Z\"/>\n",
              "  </svg>\n",
              "    </button>\n",
              "\n",
              "  <style>\n",
              "    .colab-df-container {\n",
              "      display:flex;\n",
              "      gap: 12px;\n",
              "    }\n",
              "\n",
              "    .colab-df-convert {\n",
              "      background-color: #E8F0FE;\n",
              "      border: none;\n",
              "      border-radius: 50%;\n",
              "      cursor: pointer;\n",
              "      display: none;\n",
              "      fill: #1967D2;\n",
              "      height: 32px;\n",
              "      padding: 0 0 0 0;\n",
              "      width: 32px;\n",
              "    }\n",
              "\n",
              "    .colab-df-convert:hover {\n",
              "      background-color: #E2EBFA;\n",
              "      box-shadow: 0px 1px 2px rgba(60, 64, 67, 0.3), 0px 1px 3px 1px rgba(60, 64, 67, 0.15);\n",
              "      fill: #174EA6;\n",
              "    }\n",
              "\n",
              "    .colab-df-buttons div {\n",
              "      margin-bottom: 4px;\n",
              "    }\n",
              "\n",
              "    [theme=dark] .colab-df-convert {\n",
              "      background-color: #3B4455;\n",
              "      fill: #D2E3FC;\n",
              "    }\n",
              "\n",
              "    [theme=dark] .colab-df-convert:hover {\n",
              "      background-color: #434B5C;\n",
              "      box-shadow: 0px 1px 3px 1px rgba(0, 0, 0, 0.15);\n",
              "      filter: drop-shadow(0px 1px 2px rgba(0, 0, 0, 0.3));\n",
              "      fill: #FFFFFF;\n",
              "    }\n",
              "  </style>\n",
              "\n",
              "    <script>\n",
              "      const buttonEl =\n",
              "        document.querySelector('#df-6161236b-6f33-488d-bc80-f48e38b49441 button.colab-df-convert');\n",
              "      buttonEl.style.display =\n",
              "        google.colab.kernel.accessAllowed ? 'block' : 'none';\n",
              "\n",
              "      async function convertToInteractive(key) {\n",
              "        const element = document.querySelector('#df-6161236b-6f33-488d-bc80-f48e38b49441');\n",
              "        const dataTable =\n",
              "          await google.colab.kernel.invokeFunction('convertToInteractive',\n",
              "                                                    [key], {});\n",
              "        if (!dataTable) return;\n",
              "\n",
              "        const docLinkHtml = 'Like what you see? Visit the ' +\n",
              "          '<a target=\"_blank\" href=https://colab.research.google.com/notebooks/data_table.ipynb>data table notebook</a>'\n",
              "          + ' to learn more about interactive tables.';\n",
              "        element.innerHTML = '';\n",
              "        dataTable['output_type'] = 'display_data';\n",
              "        await google.colab.output.renderOutput(dataTable, element);\n",
              "        const docLink = document.createElement('div');\n",
              "        docLink.innerHTML = docLinkHtml;\n",
              "        element.appendChild(docLink);\n",
              "      }\n",
              "    </script>\n",
              "  </div>\n",
              "\n",
              "\n",
              "    <div id=\"df-ad7ac87f-3f65-47ab-b073-36302a7b94b5\">\n",
              "      <button class=\"colab-df-quickchart\" onclick=\"quickchart('df-ad7ac87f-3f65-47ab-b073-36302a7b94b5')\"\n",
              "                title=\"Suggest charts\"\n",
              "                style=\"display:none;\">\n",
              "\n",
              "<svg xmlns=\"http://www.w3.org/2000/svg\" height=\"24px\"viewBox=\"0 0 24 24\"\n",
              "     width=\"24px\">\n",
              "    <g>\n",
              "        <path d=\"M19 3H5c-1.1 0-2 .9-2 2v14c0 1.1.9 2 2 2h14c1.1 0 2-.9 2-2V5c0-1.1-.9-2-2-2zM9 17H7v-7h2v7zm4 0h-2V7h2v10zm4 0h-2v-4h2v4z\"/>\n",
              "    </g>\n",
              "</svg>\n",
              "      </button>\n",
              "\n",
              "<style>\n",
              "  .colab-df-quickchart {\n",
              "      --bg-color: #E8F0FE;\n",
              "      --fill-color: #1967D2;\n",
              "      --hover-bg-color: #E2EBFA;\n",
              "      --hover-fill-color: #174EA6;\n",
              "      --disabled-fill-color: #AAA;\n",
              "      --disabled-bg-color: #DDD;\n",
              "  }\n",
              "\n",
              "  [theme=dark] .colab-df-quickchart {\n",
              "      --bg-color: #3B4455;\n",
              "      --fill-color: #D2E3FC;\n",
              "      --hover-bg-color: #434B5C;\n",
              "      --hover-fill-color: #FFFFFF;\n",
              "      --disabled-bg-color: #3B4455;\n",
              "      --disabled-fill-color: #666;\n",
              "  }\n",
              "\n",
              "  .colab-df-quickchart {\n",
              "    background-color: var(--bg-color);\n",
              "    border: none;\n",
              "    border-radius: 50%;\n",
              "    cursor: pointer;\n",
              "    display: none;\n",
              "    fill: var(--fill-color);\n",
              "    height: 32px;\n",
              "    padding: 0;\n",
              "    width: 32px;\n",
              "  }\n",
              "\n",
              "  .colab-df-quickchart:hover {\n",
              "    background-color: var(--hover-bg-color);\n",
              "    box-shadow: 0 1px 2px rgba(60, 64, 67, 0.3), 0 1px 3px 1px rgba(60, 64, 67, 0.15);\n",
              "    fill: var(--button-hover-fill-color);\n",
              "  }\n",
              "\n",
              "  .colab-df-quickchart-complete:disabled,\n",
              "  .colab-df-quickchart-complete:disabled:hover {\n",
              "    background-color: var(--disabled-bg-color);\n",
              "    fill: var(--disabled-fill-color);\n",
              "    box-shadow: none;\n",
              "  }\n",
              "\n",
              "  .colab-df-spinner {\n",
              "    border: 2px solid var(--fill-color);\n",
              "    border-color: transparent;\n",
              "    border-bottom-color: var(--fill-color);\n",
              "    animation:\n",
              "      spin 1s steps(1) infinite;\n",
              "  }\n",
              "\n",
              "  @keyframes spin {\n",
              "    0% {\n",
              "      border-color: transparent;\n",
              "      border-bottom-color: var(--fill-color);\n",
              "      border-left-color: var(--fill-color);\n",
              "    }\n",
              "    20% {\n",
              "      border-color: transparent;\n",
              "      border-left-color: var(--fill-color);\n",
              "      border-top-color: var(--fill-color);\n",
              "    }\n",
              "    30% {\n",
              "      border-color: transparent;\n",
              "      border-left-color: var(--fill-color);\n",
              "      border-top-color: var(--fill-color);\n",
              "      border-right-color: var(--fill-color);\n",
              "    }\n",
              "    40% {\n",
              "      border-color: transparent;\n",
              "      border-right-color: var(--fill-color);\n",
              "      border-top-color: var(--fill-color);\n",
              "    }\n",
              "    60% {\n",
              "      border-color: transparent;\n",
              "      border-right-color: var(--fill-color);\n",
              "    }\n",
              "    80% {\n",
              "      border-color: transparent;\n",
              "      border-right-color: var(--fill-color);\n",
              "      border-bottom-color: var(--fill-color);\n",
              "    }\n",
              "    90% {\n",
              "      border-color: transparent;\n",
              "      border-bottom-color: var(--fill-color);\n",
              "    }\n",
              "  }\n",
              "</style>\n",
              "\n",
              "      <script>\n",
              "        async function quickchart(key) {\n",
              "          const quickchartButtonEl =\n",
              "            document.querySelector('#' + key + ' button');\n",
              "          quickchartButtonEl.disabled = true;  // To prevent multiple clicks.\n",
              "          quickchartButtonEl.classList.add('colab-df-spinner');\n",
              "          try {\n",
              "            const charts = await google.colab.kernel.invokeFunction(\n",
              "                'suggestCharts', [key], {});\n",
              "          } catch (error) {\n",
              "            console.error('Error during call to suggestCharts:', error);\n",
              "          }\n",
              "          quickchartButtonEl.classList.remove('colab-df-spinner');\n",
              "          quickchartButtonEl.classList.add('colab-df-quickchart-complete');\n",
              "        }\n",
              "        (() => {\n",
              "          let quickchartButtonEl =\n",
              "            document.querySelector('#df-ad7ac87f-3f65-47ab-b073-36302a7b94b5 button');\n",
              "          quickchartButtonEl.style.display =\n",
              "            google.colab.kernel.accessAllowed ? 'block' : 'none';\n",
              "        })();\n",
              "      </script>\n",
              "    </div>\n",
              "\n",
              "  <div id=\"id_483a401e-1ece-4594-b73b-248841331e42\">\n",
              "    <style>\n",
              "      .colab-df-generate {\n",
              "        background-color: #E8F0FE;\n",
              "        border: none;\n",
              "        border-radius: 50%;\n",
              "        cursor: pointer;\n",
              "        display: none;\n",
              "        fill: #1967D2;\n",
              "        height: 32px;\n",
              "        padding: 0 0 0 0;\n",
              "        width: 32px;\n",
              "      }\n",
              "\n",
              "      .colab-df-generate:hover {\n",
              "        background-color: #E2EBFA;\n",
              "        box-shadow: 0px 1px 2px rgba(60, 64, 67, 0.3), 0px 1px 3px 1px rgba(60, 64, 67, 0.15);\n",
              "        fill: #174EA6;\n",
              "      }\n",
              "\n",
              "      [theme=dark] .colab-df-generate {\n",
              "        background-color: #3B4455;\n",
              "        fill: #D2E3FC;\n",
              "      }\n",
              "\n",
              "      [theme=dark] .colab-df-generate:hover {\n",
              "        background-color: #434B5C;\n",
              "        box-shadow: 0px 1px 3px 1px rgba(0, 0, 0, 0.15);\n",
              "        filter: drop-shadow(0px 1px 2px rgba(0, 0, 0, 0.3));\n",
              "        fill: #FFFFFF;\n",
              "      }\n",
              "    </style>\n",
              "    <button class=\"colab-df-generate\" onclick=\"generateWithVariable('tool_freq_distributions')\"\n",
              "            title=\"Generate code using this dataframe.\"\n",
              "            style=\"display:none;\">\n",
              "\n",
              "  <svg xmlns=\"http://www.w3.org/2000/svg\" height=\"24px\"viewBox=\"0 0 24 24\"\n",
              "       width=\"24px\">\n",
              "    <path d=\"M7,19H8.4L18.45,9,17,7.55,7,17.6ZM5,21V16.75L18.45,3.32a2,2,0,0,1,2.83,0l1.4,1.43a1.91,1.91,0,0,1,.58,1.4,1.91,1.91,0,0,1-.58,1.4L9.25,21ZM18.45,9,17,7.55Zm-12,3A5.31,5.31,0,0,0,4.9,8.1,5.31,5.31,0,0,0,1,6.5,5.31,5.31,0,0,0,4.9,4.9,5.31,5.31,0,0,0,6.5,1,5.31,5.31,0,0,0,8.1,4.9,5.31,5.31,0,0,0,12,6.5,5.46,5.46,0,0,0,6.5,12Z\"/>\n",
              "  </svg>\n",
              "    </button>\n",
              "    <script>\n",
              "      (() => {\n",
              "      const buttonEl =\n",
              "        document.querySelector('#id_483a401e-1ece-4594-b73b-248841331e42 button.colab-df-generate');\n",
              "      buttonEl.style.display =\n",
              "        google.colab.kernel.accessAllowed ? 'block' : 'none';\n",
              "\n",
              "      buttonEl.onclick = () => {\n",
              "        google.colab.notebook.generateWithVariable('tool_freq_distributions');\n",
              "      }\n",
              "      })();\n",
              "    </script>\n",
              "  </div>\n",
              "\n",
              "    </div>\n",
              "  </div>\n"
            ],
            "application/vnd.google.colaboratory.intrinsic+json": {
              "type": "dataframe",
              "variable_name": "tool_freq_distributions",
              "summary": "{\n  \"name\": \"tool_freq_distributions\",\n  \"rows\": 5,\n  \"fields\": [\n    {\n      \"column\": \"ChatGPT\",\n      \"properties\": {\n        \"dtype\": \"number\",\n        \"std\": 0.4472135954999579,\n        \"min\": 0.0,\n        \"max\": 1.0,\n        \"num_unique_values\": 4,\n        \"samples\": [\n          1.0,\n          0.25,\n          0.0\n        ],\n        \"semantic_type\": \"\",\n        \"description\": \"\"\n      }\n    },\n    {\n      \"column\": \"Copilot\",\n      \"properties\": {\n        \"dtype\": \"number\",\n        \"std\": 0.11785113019775792,\n        \"min\": 0.0,\n        \"max\": 0.25,\n        \"num_unique_values\": 3,\n        \"samples\": [\n          0.0,\n          0.16666666666666666,\n          0.25\n        ],\n        \"semantic_type\": \"\",\n        \"description\": \"\"\n      }\n    },\n    {\n      \"column\": \"Claude\",\n      \"properties\": {\n        \"dtype\": \"number\",\n        \"std\": 0.14907119849998599,\n        \"min\": 0.0,\n        \"max\": 0.3333333333333333,\n        \"num_unique_values\": 2,\n        \"samples\": [\n          0.3333333333333333,\n          0.0\n        ],\n        \"semantic_type\": \"\",\n        \"description\": \"\"\n      }\n    },\n    {\n      \"column\": \"EyeLevel\",\n      \"properties\": {\n        \"dtype\": \"number\",\n        \"std\": 0.1118033988749895,\n        \"min\": 0.0,\n        \"max\": 0.25,\n        \"num_unique_values\": 2,\n        \"samples\": [\n          0.25,\n          0.0\n        ],\n        \"semantic_type\": \"\",\n        \"description\": \"\"\n      }\n    },\n    {\n      \"column\": \"MS Copilot\",\n      \"properties\": {\n        \"dtype\": \"number\",\n        \"std\": 0.1118033988749895,\n        \"min\": 0.0,\n        \"max\": 0.25,\n        \"num_unique_values\": 2,\n        \"samples\": [\n          0.25,\n          0.0\n        ],\n        \"semantic_type\": \"\",\n        \"description\": \"\"\n      }\n    }\n  ]\n}"
            }
          },
          "metadata": {},
          "execution_count": 50
        }
      ]
    },
    {
      "cell_type": "code",
      "source": [
        "fig, ax = plt.subplots(1,1)\n",
        "tool_freq_distributions.plot(kind='bar', ax=ax)\n",
        "ax.set_title('Frequency distribution of each AI tool for each outcome type')\n",
        "ax.set_xlabel('Outcome type')\n",
        "ax.set_ylabel('Frequency')\n",
        "ax.legend(title='AI tool')\n",
        "plt.xticks(ha='right', rotation=45)\n",
        "plt.show()"
      ],
      "metadata": {
        "colab": {
          "base_uri": "https://localhost:8080/",
          "height": 567
        },
        "id": "j8W4SBZoFpMu",
        "outputId": "8e0c6535-7930-41da-86df-bcafb1ff8598"
      },
      "execution_count": 53,
      "outputs": [
        {
          "output_type": "display_data",
          "data": {
            "text/plain": [
              "<Figure size 640x480 with 1 Axes>"
            ],
            "image/png": "[encoded data removed]"
          },
          "metadata": {}
        }
      ]
    },
    {
      "cell_type": "markdown",
      "source": [
        "### Results:\n",
        "\n",
        "Based on the resulting graph, it seems ChatGPT was more frequently associated with dismissed, warning, and sanction than other AI tools, while for 'other' outcomes, the distribution of associated AI tools was uniform. Assuming the data was sufficient, since one AI tool appears to be more frequently associated with an outcome than other, we would likely reject the null hypothesis after performing a statistical analysis.\n",
        "\n",
        "### Conclusion:\n",
        "\n",
        "Since the data on AI tools and associated outcomes was highly limited (only 1 row could be sampled for some AI tools), it is difficult to tell if any tool caused their user attorneys  to face an outcome more often than other tools. ChatGPT's prominence in the AI tool frequency distributions for certain outcome types may just be because most samples were based on its use. This project can be improved by doing a further search for data sources with a higher represented of identified AI tools. I can also use statistical analysis to ensure that any tools caused their user attorneys  to face an outcome more often than other tools."
      ],
      "metadata": {
        "id": "l-uwwKm7qeJ5"
      }
    }
  ]
}
